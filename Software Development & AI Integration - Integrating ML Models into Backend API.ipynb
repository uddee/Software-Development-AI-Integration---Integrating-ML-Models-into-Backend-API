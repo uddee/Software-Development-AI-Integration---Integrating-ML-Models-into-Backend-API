{
 "cells": [
  {
   "cell_type": "code",
   "execution_count": 1,
   "metadata": {},
   "outputs": [],
   "source": [
    "# 3. Software Development & AI Integration - Integrating ML Models into Backend API\n",
    "\n",
    "import pandas as pd\n",
    "from sklearn.linear_model import LinearRegression\n",
    "import pickle\n",
    "\n",
    "# Simulating AI model training for prediction\n",
    "def train_and_save_model():\n",
    "    # Sample data for training\n",
    "    data = {'feature1': [1, 2, 3, 4, 5],\n",
    "            'feature2': [5, 4, 3, 2, 1],\n",
    "            'target': [1, 2, 3, 4, 5]}\n",
    "    df = pd.DataFrame(data)\n",
    "\n",
    "    X = df[['feature1', 'feature2']]\n",
    "    y = df['target']\n",
    "\n",
    "    # Create and train the model\n",
    "    model = LinearRegression()\n",
    "    model.fit(X, y)\n",
    "\n",
    "    # Save the trained model as a pickle file\n",
    "    with open('trained_model.pkl', 'wb') as file:\n",
    "        pickle.dump(model, file)\n",
    "\n",
    "# Function to load and use the trained model\n",
    "def load_model_and_predict(features):\n",
    "    # Load the pre-trained model\n",
    "    with open('trained_model.pkl', 'rb') as file:\n",
    "        model = pickle.load(file)\n",
    "\n",
    "    # Convert the features list into a pandas DataFrame with the correct column names\n",
    "    features_df = pd.DataFrame([features], columns=['feature1', 'feature2'])\n",
    "\n",
    "    # Use the model to make predictions\n",
    "    prediction = model.predict(features_df)\n",
    "    return prediction[0]\n"
   ]
  },
  {
   "cell_type": "code",
   "execution_count": 2,
   "metadata": {},
   "outputs": [
    {
     "name": "stdout",
     "output_type": "stream",
     "text": [
      "Prediction for features [2, 4]: 2.0\n"
     ]
    }
   ],
   "source": [
    "# Train and save the model\n",
    "train_and_save_model()\n",
    "\n",
    "# Example input for prediction (as a list)\n",
    "features = [2, 4]\n",
    "\n",
    "# Get the prediction\n",
    "prediction = load_model_and_predict(features)\n",
    "print(f\"Prediction for features {features}: {prediction}\")"
   ]
  }
 ],
 "metadata": {
  "kernelspec": {
   "display_name": "Python 3",
   "language": "python",
   "name": "python3"
  },
  "language_info": {
   "codemirror_mode": {
    "name": "ipython",
    "version": 3
   },
   "file_extension": ".py",
   "mimetype": "text/x-python",
   "name": "python",
   "nbconvert_exporter": "python",
   "pygments_lexer": "ipython3",
   "version": "3.12.9"
  }
 },
 "nbformat": 4,
 "nbformat_minor": 2
}
